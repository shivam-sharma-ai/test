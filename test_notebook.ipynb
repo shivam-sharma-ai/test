{
 "cells": [
  {
   "cell_type": "code",
   "execution_count": 1,
   "id": "8a90970b",
   "metadata": {},
   "outputs": [
    {
     "name": "stdout",
     "output_type": "stream",
     "text": [
      "This is a test notebook for git integration with aws sagemkaer\n"
     ]
    }
   ],
   "source": [
    "print(\"This is a test notebook for git integration with aws sagemkaer\")"
   ]
  },
  {
   "cell_type": "code",
   "execution_count": null,
   "id": "e91c408f",
   "metadata": {},
   "outputs": [],
   "source": []
  }
 ],
 "metadata": {
  "kernelspec": {
   "display_name": "conda_pytorch_p36",
   "language": "python",
   "name": "conda_pytorch_p36"
  },
  "language_info": {
   "codemirror_mode": {
    "name": "ipython",
    "version": 3
   },
   "file_extension": ".py",
   "mimetype": "text/x-python",
   "name": "python",
   "nbconvert_exporter": "python",
   "pygments_lexer": "ipython3",
   "version": "3.6.13"
  }
 },
 "nbformat": 4,
 "nbformat_minor": 5
}
